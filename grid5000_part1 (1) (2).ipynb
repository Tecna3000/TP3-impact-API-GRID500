{
  "metadata": {
    "kernelspec": {
      "name": "python",
      "display_name": "Python (Pyodide)",
      "language": "python"
    },
    "language_info": {
      "codemirror_mode": {
        "name": "ipython",
        "version": 3
      },
      "file_extension": ".py",
      "mimetype": "text/x-python",
      "name": "python",
      "nbconvert_exporter": "python",
      "pygments_lexer": "ipython3",
      "version": "3.9.12"
    }
  },
  "nbformat_minor": 4,
  "nbformat": 4,
  "cells": [
    {
      "cell_type": "markdown",
      "source": "# Consommation énergétique du code, utilisation de la plateforme Grid5000",
      "metadata": {}
    },
    {
      "cell_type": "markdown",
      "source": "# 1 Déroulement de la séance",
      "metadata": {}
    },
    {
      "cell_type": "markdown",
      "source": "Dans les deux prochaines séances de TP nous allons travailler sur la plateforme [grid5000](https://www.grid5000.fr/w/Grid5000:Home) pour regarder de\nmanière fine quelle est la consommation énergétique d’un code. Dans la première partie, nous allons apprendre\nà travailler avec Grid5000. Dans la deuxième partie on se posera la question de savoir quels langages sont les\nplus efficaces pour implémenter des algorithmes classiques.\n\nLes questions alternent entre un travail sur votre machine locale/celle de l’université\nou au contraire sur la plateforme Grid5000. Dans ce dernier cas elles seront marquées d'une étoile (*).\n\nVous répondrez aux questions qui nécessitent une réponse, sous la forme de texte ou de code, dans le notebook\n`grid5000_part1.ipynb`. Pour ouvrir ce document, il faut au préalable ouvrir `jupyter-notebook` ce qui se fait\nsur les machines de l’université avec la commande  \n`/opt/anaconda3/bin/jupyter-notebook`.",
      "metadata": {}
    },
    {
      "cell_type": "markdown",
      "source": "# 2. Créer un compte",
      "metadata": {}
    },
    {
      "cell_type": "markdown",
      "source": "Vous avez du recevoir un mail de grid5000 vous demandant de créer un compte pour accéder à la plateforme.",
      "metadata": {}
    },
    {
      "cell_type": "markdown",
      "source": "### Question 1",
      "metadata": {}
    },
    {
      "cell_type": "markdown",
      "source": "Générez une clef ssh. Pour cela vous utiliserez la commande suivante  \n`ssh-keygen -t rsa`  \nqui crée deux fichiers dans le dossier caché `./ssh`.\n\n`id_rsa` est la clef privée (à garder secrète)\net `id_rsa.pub` la clef publique que vous transmettrez à grid5000.",
      "metadata": {}
    },
    {
      "cell_type": "markdown",
      "source": "### Question 2",
      "metadata": {}
    },
    {
      "cell_type": "markdown",
      "source": "Ne lisez pas toutes les instructions du mail mais suivez le lien proposé pour créer votre\ncompte. Vous aurez besoin de transmettre votre clef `id_rsa.pub` au cours du processus.",
      "metadata": {}
    },
    {
      "cell_type": "markdown",
      "source": "# 3. Prise en main",
      "metadata": {}
    },
    {
      "cell_type": "markdown",
      "source": "## 3.1 Description de l'environnement",
      "metadata": {}
    },
    {
      "cell_type": "markdown",
      "source": "Grid5000 est un banc de test (\"testbed\" en anglais). Il s’agit d’une plateforme informatique qui permet de\nréaliser des tests rigoureux sur des outils de calcul numérique haute performance, notamment en calcul parallèle\net distribué.\nGrid5000 s’organise de la manière suivante :  \n— 8 sites en France  \n— 800 noeuds localisés à Grenoble (92), Lille (39), Luxembourg (16), Lyon (132), Nancy (189), Nantes (70),\nRennes (173), Sophia (44)  \n— environ 15000 coeurs au total  \nVous pourrez accéder à toutes les catactéristiques techniques du matériel [ici](https://www.grid5000.fr/w/Hardware).",
      "metadata": {}
    },
    {
      "cell_type": "markdown",
      "source": "## 3.2 Quelques règles simples",
      "metadata": {}
    },
    {
      "cell_type": "markdown",
      "source": "Les règles d’utilisation sont détaillées [ici](https://www.grid5000.fr/w/Grid5000:UsagePolicy). Pour résumer très rapidement, vous ne devez utiliser la plateforme\nque pour des usages relatifs au TP proposé. On évitera notamment le minage de bitcoin...",
      "metadata": {}
    },
    {
      "cell_type": "markdown",
      "source": "## 3.3 Première connexion",
      "metadata": {}
    },
    {
      "cell_type": "markdown",
      "source": "Le schéma représenté sur cette [page](https://www.grid5000.fr/w/Getting_Started#Connecting_for_the_first_time) vous donne un aperçu de l’architecture de grid5000.",
      "metadata": {}
    },
    {
      "cell_type": "markdown",
      "source": "### Question 3 (*)",
      "metadata": {}
    },
    {
      "cell_type": "markdown",
      "source": "Dans un terminal, connectez vous à une machine d’accès via la commande  \n`ssh <login>@access.grid5000.fr`  \npuis connectez vous à une des 8 machines frontales (ou frontend ) associées aux différents\nsites via la commande  \n`ssh <site>`  \noù `<site>` est à remplacer par `grenoble`, `lyon`, `nancy` etc (sans les `< >`). Votre enseignant.e vous dira quel site choisir.",
      "metadata": {}
    },
    {
      "cell_type": "markdown",
      "source": "### Question 4 (*)",
      "metadata": {}
    },
    {
      "cell_type": "markdown",
      "source": "Assurez vous que votre répertoire courant ne contient qu’un dossier public lui-même contenant un README.txt dont vous prendrez connaissance du contenu.",
      "metadata": {}
    },
    {
      "cell_type": "markdown",
      "source": "### Question 5",
      "metadata": {}
    },
    {
      "cell_type": "markdown",
      "source": "A l’aide de la commande `scp` **utilisée depuis votre machine**, copiez le fichier de votre\nchoix vers le dossier public de la machine frontale de grid5000 de votre choix. Le répertoire\nde destination sera de la forme :  \n`<login>@access.grid5000.fr:<site>/public/`  \nVérifiez que l’opération s’est passée sans encombre.",
      "metadata": {}
    },
    {
      "cell_type": "markdown",
      "source": "## 3.4 Réservation et utilisation des ressources",
      "metadata": {}
    },
    {
      "cell_type": "markdown",
      "source": "L’utilisation des ressources de grid5000 est sujette à certaines contraintes et notamment le fait qu’il faut partager ces ressources avec d’autres utilisateurs. Des outils de visualisation ([vue générale](https://www.grid5000.fr/w/Status)) permettent de connaître\nl’utilisation des ressources à un instant donné (avec Monika, voir l’exemple de [Nancy](https://intranet.grid5000.fr/oar/Nancy/monika.cgi)) ou sur une certaine durée\n(avec Gantt, voir [ici](https://intranet.grid5000.fr/oar/Nancy/drawgantt-svg/)).  \nDans le cadre de ce TP, il est important d’avoir réservé au préalable un certain nombre de clusters pour\nque le TP puisse bien se passer. A ce stade, vos enseignants se seront chargés de cette tâche. Vous allez donc\ntravailler au sein de ressources réservées appelées container job et repéré par un `JOB_ID` qui vous sera donné au début du TP, ainsi qu’un des 8 sites associé.  \nLa réservation de ressources passe par [OAR](http://oar.imag.fr/) qui est un utilitaire développé par l’INRIA et très utilisé dans\nle calcul haute performance.",
      "metadata": {}
    },
    {
      "cell_type": "markdown",
      "source": "### Question 6 (*)",
      "metadata": {}
    },
    {
      "cell_type": "markdown",
      "source": "Utilisez la commande `oarstat` et repérez les différents jobs associés à l’utilisateur `jlefevre`.  \nEn utilisant la visualisation Monika ou Gantt, trouvez le nombre de noeuds utilisés et la\ndurée d'utilisation.",
      "metadata": {}
    },
    {
      "cell_type": "markdown",
      "source": "Réponse: ",
      "metadata": {}
    },
    {
      "cell_type": "markdown",
      "source": "#### Il y a 3 jobs associés à `jlefevre`, 1 est encours `running` et 2 sont en attente `waiting`.\n- 36 noeuds sont utilisés pendant \t2h59min22s",
      "metadata": {}
    },
    {
      "cell_type": "markdown",
      "source": "### Question 7 (*)",
      "metadata": {}
    },
    {
      "cell_type": "markdown",
      "source": "Sachant que vous êtes 40 (Aix) ou 100 (Luminy) étudiant.e.s en parallèle pendant ce TP de\n3 heures, quelle est la quantité de ressources, exprimée en noeud.heures, à répartir par étudiant.e ?",
      "metadata": {}
    },
    {
      "cell_type": "markdown",
      "source": "Réponse: ",
      "metadata": {}
    },
    {
      "cell_type": "markdown",
      "source": "- Il y a 36 noeuds à répartir entre 100 étudiants à Luminy, il y a donc 1.08 noeuds.heure pour chaque étudiant.",
      "metadata": {}
    },
    {
      "cell_type": "markdown",
      "source": "**Attention, les deux questions suivantes vont s’enchainer en une minute. Le but n’est évidemment pas d’y répondre en une minute mais d’anticiper les différentes actions que vous allez devoir\nfaire pendant cette précieuse minute.**",
      "metadata": {}
    },
    {
      "cell_type": "markdown",
      "source": "### Question 8 (*)",
      "metadata": {}
    },
    {
      "cell_type": "markdown",
      "source": "Réservez chacun.e un seul noeud pour une durée de une minute via la commande :  \n`oarsub -I -t inner=<JOB_ID> -l host=1,walltime=00:01:00 --project lab-2023-amu-licinfo-impact`",
      "metadata": {}
    },
    {
      "cell_type": "markdown",
      "source": "Vous devrez voir s’afficher un texte proche de celui-là  \n`[ADMISSION RULE] Filtering out exotic resources (grouille).  \n[ADMISSION RULE] Computed global resource filter: -p \"maintenance = 'NO'\"  \n[ADMISSION_RULE] Computed resource request: -l {\"((type = 'default') AND production = 'NO')\nAND exotic = 'NO'\"}/host=1  \nOAR_JOB_ID=3270847  \n`#` Interactive mode: waiting...`",
      "metadata": {}
    },
    {
      "cell_type": "markdown",
      "source": "### Question  9 (*)",
      "metadata": {}
    },
    {
      "cell_type": "markdown",
      "source": "Lancer la commande  \n`stress -c 1 -t 30`  \nqui va faire tourner un cpu au maximum de ses capacités pendant 30 secondes. **Attention\nde bien lancer la commande pendant la minute qui vous est allouée !**",
      "metadata": {}
    },
    {
      "cell_type": "markdown",
      "source": "# 4. Première mesure de consommation énergétique",
      "metadata": {}
    },
    {
      "cell_type": "markdown",
      "source": "Dans la partie précédente vous avez utilisé un stress CPU et nous allons voir dans un premier temps comment\non peut retrouver la trace de cette activité.",
      "metadata": {}
    },
    {
      "cell_type": "markdown",
      "source": "### Question  10",
      "metadata": {}
    },
    {
      "cell_type": "markdown",
      "source": "Exécutez les deux blocs suivants pour charger les librairies et définir les 3 fonctions. Utilisez pour cela le bouton `Run`.",
      "metadata": {}
    },
    {
      "cell_type": "code",
      "source": "import requests\nimport matplotlib.pyplot as plt\nfrom getpass import getpass\nfrom datetime import datetime\nimport dateutil.parser as dp",
      "metadata": {
        "trusted": true
      },
      "execution_count": null,
      "outputs": []
    },
    {
      "cell_type": "code",
      "source": "def get_power(g5k_auth,node, site, start, stop, metric=\"bmc_fan_power_watt\"):\n    url = \"https://api.grid5000.fr/stable/sites/%s/metrics?nodes=%s&metrics=%s&start_time=%s&end_time=%s\" % (site, node, metric, start, stop)\n    print(url)\n    data = requests.get(url, auth=g5k_auth).json()\n    return data\n\ndef plot(values):\n    plt.figure(figsize=(15,9))\n    plt.plot(values)\n    plt.xlabel(\"Axe des x: ?\")\n    plt.ylabel(\"Axe des y: ?\")\n    plt.show()\n    \ndef convert_date_sec(date_string):\n    return datetime.timestamp(dp.isoparse(date_string))",
      "metadata": {
        "trusted": true
      },
      "execution_count": null,
      "outputs": []
    },
    {
      "cell_type": "markdown",
      "source": "### Question  11",
      "metadata": {}
    },
    {
      "cell_type": "markdown",
      "source": "Exécutez le bloc suivant. Il vous sera demandé votre login et votre mot de passe pour grid5000 qui permettront ensuite d’adresser des\nrequêtes à l’API de Grid5000.",
      "metadata": {}
    },
    {
      "cell_type": "code",
      "source": "# Identification\nuser = input(f\"Grid'5000 username: \")\npassword = getpass(\"Grid'5000 password: \")\ng5k_auth = (user, password) ",
      "metadata": {
        "trusted": true
      },
      "execution_count": null,
      "outputs": []
    },
    {
      "cell_type": "markdown",
      "source": "### Question 12",
      "metadata": {}
    },
    {
      "cell_type": "markdown",
      "source": "Regardez ensuite la fonction `get_power` et appelez là dans le bloc prévu à cet effet sans\nmentionner de métrique particulière. Verifiez que l’affichage du résultat avec `print` donne\nune liste vide.",
      "metadata": {}
    },
    {
      "cell_type": "code",
      "source": "# Première requete\n# node : noeud sur lequel le premier stress cpu a tourné\n# site : site de la frontale\n# start_time et stop_time sont des dates au format ISO8601, par exemple \"2021-12-31T23:59\"\nnode = \"gros-76\"\nsite = \"nancy\"\nstart_time = \"2023-01-19T15:31:32\"\nstop_time = \"2023-01-19T15:32:38\"\nmetric = \"pdu_outlet_power_watt\"\ndata = get_power(g5k_auth,node, site, start_time, stop_time, metric)\nprint(data)",
      "metadata": {
        "trusted": true
      },
      "execution_count": null,
      "outputs": []
    },
    {
      "cell_type": "markdown",
      "source": "La variable `node` désigne le noeud sur lequel vous avez lancé votre stress cpu précédemment. `start_time` et\n`stop_time` correspondent aux instants entre lesquels vous souhaitez mesurer la puissance électrique utilisée par\nle noeud. Un instant devra s’exprimer selon la [norme 8601] (https://fr.wikipedia.org/wiki/ISO_8601) , par exemple \"2021-12-31T23:59\". Si vous voulez\nretrouver précisément le moment où votre job a été lancé, vous pourrez consulter [Gantt](https://intranet.grid5000.fr/oar/Nancy/drawgantt-svg/).",
      "metadata": {}
    },
    {
      "cell_type": "markdown",
      "source": "### Question  13",
      "metadata": {}
    },
    {
      "cell_type": "markdown",
      "source": "En regardant le tableau au bas de la [page](https://www.grid5000.fr/w/Monitoring_Using_Kwollect) dédiée aux métriques disponibles sur grid5000 et le\nparamètre par défaut de `get_power` vous devriez comprendre pourquoi il ne s’est rien affiché\nprécedemment. Modifiez alors l’appel de fonction précédent en utilisant une des métriques\nutilisées sur votre noeud de calcul pour monitorer la puissance. Sauf problèmes de dernière\nminute la métrique à utiliser sera `pdu_outlet_power_watt`.",
      "metadata": {}
    },
    {
      "cell_type": "markdown",
      "source": "Réponse:",
      "metadata": {}
    },
    {
      "cell_type": "code",
      "source": "- Le métrique utilisé n’est pas disponible sur le site que nous utilisons.",
      "metadata": {},
      "execution_count": null,
      "outputs": []
    },
    {
      "cell_type": "markdown",
      "source": "### Question 14",
      "metadata": {}
    },
    {
      "cell_type": "markdown",
      "source": "Regardez l’affichage du résultat sur le notebook. Quelle est la structure de données de chaque\nélément de la liste `data` ? Trouvez comment récupérer l’information de puissance en Watt. Enfin,\naprès avoir construit la séquence de toutes les puissances, affichez graphiquement l’évolution\ndu profil de puissance au cours du temps en utilisant la fonction `plot` fournie. Ajoutez une\nlégende pour les axes.",
      "metadata": {}
    },
    {
      "cell_type": "markdown",
      "source": "Réponse:",
      "metadata": {}
    },
    {
      "cell_type": "code",
      "source": "Chaque élément de la liste est un dictionnaire.\n",
      "metadata": {},
      "execution_count": null,
      "outputs": []
    },
    {
      "cell_type": "code",
      "source": "power_values = []\nfor dic in data :\n    power_values.append(dic['value']['pdu_outlet_power_watt'])\n    print(power_values)\n    \nplot(power_values)\nplt.xlabel(\"Temps\")\nplt.ylabel(\"Puissance (Watt)\")\nplt.title(\"L’évolution du profil de puissance au cours du temps\")\nplt.legend(\"Puissance (Watt)\")",
      "metadata": {
        "trusted": true
      },
      "execution_count": null,
      "outputs": []
    },
    {
      "cell_type": "markdown",
      "source": "### Question 15",
      "metadata": {}
    },
    {
      "cell_type": "markdown",
      "source": "Récupérez l’information temporelle dans `data` et la convertir en secondes depuis le temps\nde début de l’expérience. Vous utiliserez la fonction `convert_date_sec` qui est fournie dans\nle notebook.",
      "metadata": {}
    },
    {
      "cell_type": "markdown",
      "source": "Réponse:",
      "metadata": {}
    },
    {
      "cell_type": "code",
      "source": "time_values = []\nstart_time_sec = convert_date_sec(start_time)\nfor d in data:\n    time_sec = convert_date_sec(d['timestamp'])\n    time_values.append(time_sec - start_time_sec)",
      "metadata": {
        "trusted": true
      },
      "execution_count": null,
      "outputs": []
    },
    {
      "cell_type": "markdown",
      "source": "### Question 16",
      "metadata": {}
    },
    {
      "cell_type": "markdown",
      "source": "Faites ensuite l’affichage de la température du processeur, en reprenant une métrique adaptée. Superposez les courbes de puissance et de température et conclure.",
      "metadata": {}
    },
    {
      "cell_type": "markdown",
      "source": "Réponse:",
      "metadata": {}
    },
    {
      "cell_type": "code",
      "source": "metric = \"cpu_temp_celsius\"\ntemp_data = get_power(g5k_auth,node, site, start_time, stop_time, metric)\ntemp_values = []\nfor d in temp_data:\n    temp_values.append(d['value']['cpu_temp_celsius'])",
      "metadata": {
        "trusted": true
      },
      "execution_count": null,
      "outputs": []
    },
    {
      "cell_type": "markdown",
      "source": "# 5. Autres expériences et mesures",
      "metadata": {}
    },
    {
      "cell_type": "markdown",
      "source": "Dans cette partie vous allez faire plusieurs expériences en utilisant toujours la fonction `stress` et en faisant\nvarier ses paramètres. Un des objectifs est notamment de regarder l’évolution de la puissance et de la température du CPU avec le nombre de coeurs utilisés.",
      "metadata": {}
    },
    {
      "cell_type": "markdown",
      "source": "### Question 17 (*)",
      "metadata": {}
    },
    {
      "cell_type": "markdown",
      "source": "Dans la fonction `stress` faites varier le nombre de CPU de 1 à 8 avec une pause d’une\nminute entre chaque appel de fonction. Attention, vous réserverez un noeud pour 5 minutes\nmaximum. Il est très recommandé de faire un script python ou bash pour automatiser le\nprocessus.",
      "metadata": {}
    },
    {
      "cell_type": "markdown",
      "source": "### Question 18",
      "metadata": {}
    },
    {
      "cell_type": "markdown",
      "source": "Affichez le profil de puissance en fonction du temps. Dans une autre figure vous afficherez\nla puissance maximale en fonction du nombre de CPU, ainsi que la variation de puissance\npar rapport à l’état inactif (idle).",
      "metadata": {}
    },
    {
      "cell_type": "markdown",
      "source": "Réponse:",
      "metadata": {}
    },
    {
      "cell_type": "code",
      "source": "",
      "metadata": {},
      "execution_count": null,
      "outputs": []
    },
    {
      "cell_type": "markdown",
      "source": "### Question 19",
      "metadata": {}
    },
    {
      "cell_type": "markdown",
      "source": "Faites la même analyse avec la température maximale.",
      "metadata": {}
    },
    {
      "cell_type": "markdown",
      "source": "Réponse:",
      "metadata": {}
    },
    {
      "cell_type": "code",
      "source": "",
      "metadata": {},
      "execution_count": null,
      "outputs": []
    },
    {
      "cell_type": "markdown",
      "source": "### Question 20 (*)",
      "metadata": {}
    },
    {
      "cell_type": "markdown",
      "source": "Reprenez une expérimentation avec stress en fixant un nombre de CPU et en variant la\ndurée, entre 30 secondes et 2 minutes avec une pause d’une minute entre chaque appel. Le\nnoeud devra être réservé pour 8 minutes maximum.",
      "metadata": {}
    },
    {
      "cell_type": "markdown",
      "source": "### Question 21",
      "metadata": {}
    },
    {
      "cell_type": "markdown",
      "source": "Faites une synthèse des résultats obtenus et proposez d’autres expérimentations qui permettraient d’aller un peu plus loin dans vos conclusions.",
      "metadata": {}
    },
    {
      "cell_type": "markdown",
      "source": "Réponse:",
      "metadata": {}
    },
    {
      "cell_type": "code",
      "source": "",
      "metadata": {},
      "execution_count": null,
      "outputs": []
    },
    {
      "cell_type": "markdown",
      "source": "# 6 Evaluation globale de la consommation de grid5000 (bonus)",
      "metadata": {}
    },
    {
      "cell_type": "markdown",
      "source": "S’il vous reste du temps, vous pourrez évaluer grossièrement ou plus finement la consommation énergétique\nd’une plateforme comme grid5000, en comptabilisant tous les clusters des différents sites et en envisageant\ndifférents taux d’utilisation possible.  \nVous pourrez par exemple consulter les caractéristiques techniques du matériel sur cette [page](https://www.grid5000.fr/w/Hardware). Pour avoir\nune estimation plus fine, vous pourrez utiliser l’API de grid5000 et vous inspirer de ce [code](https://www.grid5000.fr/w/Getting_Started#Retrieving_information_from_API_with_python) pour interroger les\ndifférents sites, puis les différents clusters et enfin compter le nombre de CPU sur les différents noeuds. Des\nhypothèses seront nécessaires pour extrapoler la consommation sur votre noeud d’expérimentation à tous les\nautres noeuds de Grid5000.  \nVous pourrez donner les résultats en kW.h, en émissions de CO2 par an et en euros. On rappelle des\ninformations sur :  \n— La quantité de CO2 par kWh, via le site de [Rte-France](https://www.rte-france.com/eco2mix/les-emissions-de-co2-par-kwh-produit-en-france)  \n— Le prix du kWh à environ 15 centimes.",
      "metadata": {}
    },
    {
      "cell_type": "markdown",
      "source": "Réponse:",
      "metadata": {}
    },
    {
      "cell_type": "code",
      "source": "",
      "metadata": {},
      "execution_count": null,
      "outputs": []
    }
  ]
}